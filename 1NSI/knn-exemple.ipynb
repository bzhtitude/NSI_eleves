{
 "cells": [
  {
   "cell_type": "markdown",
   "metadata": {},
   "source": [
    "\n",
    "\n",
    "Voici un code permettant de générer des points de classe connue (représentée par une couleur) et de les représenter graphiquement, exécuter les deux cellules suivantes :"
   ]
  },
  {
   "cell_type": "code",
   "execution_count": 1,
   "metadata": {},
   "outputs": [],
   "source": [
    "import matplotlib.pyplot as plt\n",
    "from random import random\n",
    "import math\n",
    "import numpy as np\n",
    "\n",
    "ABSCISSE_CENTRE = 4\n",
    "ORDONNEE_CENTRE = 4\n",
    "RAYON = 2\n",
    "\n",
    "def generer_points(n, abscisse_centre, ordonnee_centre, rayon, angle_mini, angle_maxi, classe):\n",
    "    liste_points = []\n",
    "    for k in range(n):\n",
    "        distance = 0.75*rayon*random()+0.2*rayon\n",
    "        angle = (angle_maxi-angle_mini)*random()+angle_mini\n",
    "        a = distance*math.cos(angle) + abscisse_centre\n",
    "        b = distance*math.sin(angle) + ordonnee_centre\n",
    "        liste_points.append((a,b,classe))\n",
    "    return liste_points\n",
    "\n"
   ]
  },
  {
   "cell_type": "code",
   "execution_count": 2,
   "metadata": {},
   "outputs": [
    {
     "data": {
      "image/png": "[encoded data removed]",
      "text/plain": [
       "<Figure size 432x288 with 1 Axes>"
      ]
     },
     "metadata": {
      "needs_background": "light"
     },
     "output_type": "display_data"
    }
   ],
   "source": [
    "points1 = generer_points(10, ABSCISSE_CENTRE, ORDONNEE_CENTRE, RAYON, 2*math.pi/3, 3*math.pi/2, \"rouge\")\n",
    "points2 = generer_points(10, ABSCISSE_CENTRE, ORDONNEE_CENTRE, RAYON, 3*math.pi/2, 2*math.pi, \"bleu\")\n",
    "points3 = generer_points(10, ABSCISSE_CENTRE, ORDONNEE_CENTRE, RAYON, 0,  2*math.pi/3, \"vert\")\n",
    "points = points1+points2+points3\n",
    "plt.plot([point[0] for point in points1], [point[1] for point in points1], 'ro')\n",
    "plt.plot([point[0] for point in points2], [point[1] for point in points2], 'bo')\n",
    "plt.plot([point[0] for point in points3], [point[1] for point in points3], 'go')\n",
    "\n",
    "circle1 = plt.Circle((ABSCISSE_CENTRE,ORDONNEE_CENTRE), RAYON, color='k', fill=False)\n",
    "fig = plt.gcf()\n",
    "ax = fig.gca()\n",
    "\n",
    "ax.add_artist(circle1)\n",
    "plt.axis( 'equal')\n",
    "ax.set_xlim(0, 8)\n",
    "ax.set_ylim(0, 8)\n",
    "plt.show()\n"
   ]
  },
  {
   "cell_type": "markdown",
   "metadata": {},
   "source": [
    "Chaque point est représenté par un tuple de 3 valeurs, son abscisse, son ordonnée et sa classe (rouge, vert ou bleu)\n",
    "La variable points est une liste contenant les 30 points précédemment générées, exécuter la cellule suivante et observer la sortie :"
   ]
  },
  {
   "cell_type": "code",
   "execution_count": 3,
   "metadata": {},
   "outputs": [
    {
     "data": {
      "text/plain": [
       "[(3.0674978583767682, 3.4999487842206305, 'rouge'),\n",
       " (3.2497444619482536, 4.423937057793973, 'rouge'),\n",
       " (3.135572582035457, 2.8526525052025984, 'rouge'),\n",
       " (3.5151752144406796, 3.4613498488728363, 'rouge'),\n",
       " (3.32379901892355, 2.6474064801947264, 'rouge'),\n",
       " (3.0695945625764725, 5.6015734096940974, 'rouge'),\n",
       " (2.9526290238769195, 3.975397478155715, 'rouge'),\n",
       " (3.2132126476132132, 3.853927013175524, 'rouge'),\n",
       " (3.1428312070279154, 3.270610189040479, 'rouge'),\n",
       " (2.989158546616146, 5.150562712884382, 'rouge'),\n",
       " (5.063486055036848, 2.788057258353465, 'bleu'),\n",
       " (4.009675784976663, 3.3370234768074747, 'bleu'),\n",
       " (4.680100269162889, 3.0408851242591943, 'bleu'),\n",
       " (4.823389097263721, 3.002576861459235, 'bleu'),\n",
       " (4.009352258038655, 3.392101985299152, 'bleu'),\n",
       " (4.24455706236454, 2.8326554985295167, 'bleu'),\n",
       " (5.400223551292255, 3.6915647095932296, 'bleu'),\n",
       " (4.8849661354748815, 3.281630657416034, 'bleu'),\n",
       " (4.414979827609382, 3.043226337148881, 'bleu'),\n",
       " (4.541925416783756, 3.6943906411555867, 'bleu'),\n",
       " (4.546766453818502, 4.312586453372809, 'vert'),\n",
       " (4.489631920475961, 5.550474944723976, 'vert'),\n",
       " (5.318129023945046, 4.101999557650297, 'vert'),\n",
       " (3.8684412182920296, 4.389225714638433, 'vert'),\n",
       " (5.836430366282451, 4.343326419158892, 'vert'),\n",
       " (4.435911009965334, 4.866046554398074, 'vert'),\n",
       " (4.505077716261676, 4.164913175896245, 'vert'),\n",
       " (4.337816803912759, 5.118654958538105, 'vert'),\n",
       " (5.693461148944555, 4.4388493280034735, 'vert'),\n",
       " (4.078519333586171, 4.680493171599505, 'vert')]"
      ]
     },
     "execution_count": 3,
     "metadata": {},
     "output_type": "execute_result"
    }
   ],
   "source": [
    "points"
   ]
  },
  {
   "cell_type": "markdown",
   "metadata": {},
   "source": [
    "En utilisant le graphique, déterminer à l'oeil nu un point A (sous forme d'un tuple (abscisse, ordonnée)) pour lequel la classe n'est pas évidente:"
   ]
  },
  {
   "cell_type": "code",
   "execution_count": null,
   "metadata": {},
   "outputs": [],
   "source": [
    "point_A = ( , )"
   ]
  },
  {
   "cell_type": "markdown",
   "metadata": {},
   "source": [
    "Afin d'utiliser l'algorithme des k plus proches voisins, il manque une distance, nous allons utiliser la distance habituelle (distance euclidienne). Pour appliquer l'algorithme, il suffit de trier la liste points par ordre croissant de distance au point A (et garder les k premiers éléments).\n",
    "\n",
    "Nous allons pour cela utiliser la fonction sorted de python, qui, appliquée à une liste, la renvoie triée  d'une certaine façon.\n",
    "\n",
    "Esécuter les deux cellules suivantes et observez la résultat."
   ]
  },
  {
   "cell_type": "code",
   "execution_count": null,
   "metadata": {},
   "outputs": [],
   "source": [
    "def abscisse(point):\n",
    "    return point[0]\n",
    "\n",
    "points_tries = sorted(points, key = abscisse)"
   ]
  },
  {
   "cell_type": "code",
   "execution_count": null,
   "metadata": {},
   "outputs": [],
   "source": [
    "points_tries"
   ]
  },
  {
   "cell_type": "markdown",
   "metadata": {},
   "source": [
    "Comme vous pouvez le constater, la fonction sorted attend une liste comme premier paramètre, et une clé éventuelle de tri, qui est une fonction.\n",
    "\n",
    "En s'inspirant du code précédent et en faisant appel à vos souvenirs de seconde sur la distance entre deux points dans un repère orthonormal du plan, déterminer une liste de points par ordre croissant de distance en fonction du point A :"
   ]
  },
  {
   "cell_type": "code",
   "execution_count": null,
   "metadata": {},
   "outputs": [],
   "source": []
  },
  {
   "cell_type": "code",
   "execution_count": null,
   "metadata": {},
   "outputs": [],
   "source": []
  },
  {
   "cell_type": "markdown",
   "metadata": {},
   "source": [
    "Déterminer alors la classe majoritaire du point A d'après l'algorithme des K plus proches voisins, en ne conservant que les k points les plus proches de A.\n",
    "\n",
    "Observez si la valeur de k influence la réponse :"
   ]
  },
  {
   "cell_type": "code",
   "execution_count": null,
   "metadata": {},
   "outputs": [],
   "source": [
    "k = 3\n",
    "\n",
    "points_tries[:k]"
   ]
  },
  {
   "cell_type": "code",
   "execution_count": null,
   "metadata": {},
   "outputs": [],
   "source": []
  },
  {
   "cell_type": "markdown",
   "metadata": {},
   "source": [
    "Implémenter le même principe mais en utilisant la distance de Manhattan plutôt que la distance euclidienne :"
   ]
  },
  {
   "cell_type": "code",
   "execution_count": null,
   "metadata": {},
   "outputs": [],
   "source": []
  }
 ],
 "metadata": {
  "kernelspec": {
   "display_name": "Python 3",
   "language": "python",
   "name": "python3"
  },
  "language_info": {
   "codemirror_mode": {
    "name": "ipython",
    "version": 3
   },
   "file_extension": ".py",
   "mimetype": "text/x-python",
   "name": "python",
   "nbconvert_exporter": "python",
   "pygments_lexer": "ipython3",
   "version": "3.8.5"
  }
 },
 "nbformat": 4,
 "nbformat_minor": 4
}
