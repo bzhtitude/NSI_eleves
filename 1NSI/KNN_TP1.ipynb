{
 "cells": [
  {
   "cell_type": "markdown",
   "metadata": {},
   "source": [
    "# <center>TP1 sur l'algorithme KNN </center>\n",
    "\n",
    "### <span style=\"color:blue\">*1. Exemple*</span>  \n",
    "\n",
    "<div style=\"border: 3px solid #A0A0A0; background: #A7C5DE; padding:10px \"> \n",
    "\n",
    "Ce que font les différentes cellules : \n",
    "    \n",
    "- **Afficher** les données de la table\n",
    "- **Utiliser** l'algrithme KNN pour trouver ses proches voisins en utilisant une définition de distance\n",
    "- **Predire** le type de la cible en fonction des plus proches voisins\n",
    "\n",
    "    \n",
    "</div>"
   ]
  },
  {
   "cell_type": "markdown",
   "metadata": {},
   "source": [
    "### <span style=\"color:red\">*Affichage*</span>  "
   ]
  },
  {
   "cell_type": "code",
   "execution_count": 2,
   "metadata": {},
   "outputs": [
    {
     "data": {
      "image/png": "[encoded data removed]",
      "text/plain": [
       "<Figure size 1152x576 with 1 Axes>"
      ]
     },
     "metadata": {
      "needs_background": "light"
     },
     "output_type": "display_data"
    }
   ],
   "source": [
    "# AFFICHAGE \n",
    "\n",
    "from math import *\n",
    "import matplotlib.pyplot as plt\n",
    "\n",
    "# Données de type 1\n",
    "liste_x_1=[1,3,8,13]\n",
    "liste_y_1=[28,27.2,37.6,40.7]\n",
    "\n",
    "# Données de type 2\n",
    "liste_x_2=[2,3,10,15]\n",
    "liste_y_2=[30,26,39,35.5]\n",
    "\n",
    "# Caractéristiques 1 et 2 de la cible\n",
    "cible = [7,28.4]\n",
    "\n",
    "plt.subplots(figsize=(16,8)) # dimension du graphique\n",
    "# plt.axis([0,15, 0, 50]) # Attention [x1,x2,y1,y2]\n",
    "plt.axis('equal') # repère Orthonormal\n",
    "plt.xlabel('Caractéristique 1')\n",
    "plt.ylabel('Caractéristique 2')\n",
    "plt.title('Représentation des deux types')\n",
    "plt.grid() #affichage du quadrillage\n",
    "plt.scatter(liste_x_1,liste_y_1, label='type 1')\n",
    "plt.scatter(liste_x_2,liste_y_2, label='type 2')\n",
    "plt.scatter(cible[0], cible[1], label='cible') #ajout de la cible\n",
    "plt.legend()\n",
    "plt.show()    "
   ]
  },
  {
   "cell_type": "markdown",
   "metadata": {},
   "source": [
    "### <span style=\"color:red\">*Algo KNN*</span>  \n",
    "\n",
    "Dans cette cellule, on touve les **données**\n",
    "- la tables des données\n",
    "- la donnée cible\n",
    "- l'entier k \n",
    "- la définition de la distance\n",
    "\n",
    "On y trouve aussi l'**algorithme**\n",
    "\n",
    "- Trier les données de la table selon la distance croissante avec la donnée cible. \n",
    "- Créer la liste des k premières données de la table triée. \n",
    "- Renvoyer cette liste. "
   ]
  },
  {
   "cell_type": "code",
   "execution_count": 16,
   "metadata": {},
   "outputs": [],
   "source": [
    "# la table des données\n",
    "table = [['t1',1,28], ['t1',3,27.2], ['t1',8,37.6], ['t1',13,40.7], ['t2',2,30], ['t2',3,26], ['t2',10,39], ['t2',15,35.5]]\n",
    "# 't1' représente le type 1\n",
    "# 't2' représente le type 2\n",
    "# La première valeur numérique correspond à la valeur de la caractéristique 1\n",
    "# La deuxième valeur numérique correspond à la valeur de la caractéristique 2\n",
    "\n",
    "# Caractéristiques 1 et 2 de la cible\n",
    "cible = [7,28.4]\n",
    "\n",
    "# Valeur de k \n",
    "k=3\n",
    "\n",
    "# définition de la distance\n",
    "def Calculer_distance_cible(donnee) :\n",
    "    \"\"\" renvoie la distance entre la donnée et la cible\"\"\"\n",
    "    distance = abs(donnee[1]-cible[0])+abs(donnee[2]-cible[1])\n",
    "    return distance\n",
    "\n",
    "def k_plus_proches_voisins(table, cible, k) :\n",
    "    \"\"\"Renvoie la liste des k plus proches voisins de la cible\"\"\"    \n",
    "    table_triee = sorted(table, key = Calculer_distance_cible) # tri sur la distance \n",
    "    return table_triee[:k] # on renvoie les k premiers éléments\n",
    "\n",
    "# print(k_plus_proches_voisins(table,cible,k))"
   ]
  },
  {
   "cell_type": "markdown",
   "metadata": {},
   "source": [
    "### <span style=\"color:red\">*Rappel sur sorted()*</span>  "
   ]
  },
  {
   "cell_type": "markdown",
   "metadata": {},
   "source": [
    "<div style=\"border: 3px solid #A0A0A0; background: #A7C5DE; padding:10px \"> \n",
    "\n",
    "**sorted(iterable, *, key=None, reverse=False)**\n",
    "\n",
    "- Retourne une nouvelle liste triée sur les éléments de l'**iterable**.\n",
    "\n",
    "A 2 arguments optionnels qui doivent être spécifié par des mots-clef *keyword arguments*.\n",
    "\n",
    "**key** spécifie une fonction qui sera utilisée pour extraire un élément de classement à partir de chaque élément de l'itérable. La valeur par défaut est *None*.\n",
    "\n",
    "``` Python\n",
    "table_triee = sorted(table, key = str.lower) # fonction builtin \n",
    "table_triee = sorted(table, key = Calculer_distance_cible) # Fonction à 1 seul argument\n",
    "table_triee = sorted(table, key = lambda table: Calculer_distance(table, cible)) # Fonction à plusieurs arguments\n",
    "``` \n",
    "**reverse** est une valeur booléenne. Si elle vaut \"True\" alors la liste sera triée et inversée.\n",
    "\n",
    "    \n",
    "</div>"
   ]
  },
  {
   "cell_type": "markdown",
   "metadata": {},
   "source": [
    "### <span style=\"color:blue\">*2. Travail*</span>  "
   ]
  },
  {
   "cell_type": "markdown",
   "metadata": {},
   "source": [
    "1. Afficher le résultat de la fonction k_plus_proches_voisins(table,cible,k). Quelle est le type de la cible ?\n",
    "2. Quelle est la valeur de k ?\n",
    "3. Quelle distance a-t-on utilisée ?\n",
    "4. Utiliser d'autres valeurs de k. Quel est l'effet sur le type de la cible ?\n",
    "5. Changer la distance. Programmer la distance de Tchebychev. Quel est l'effet sur le type de la cible ?"
   ]
  }
 ],
 "metadata": {
  "kernelspec": {
   "display_name": "Python 3",
   "language": "python",
   "name": "python3"
  },
  "language_info": {
   "codemirror_mode": {
    "name": "ipython",
    "version": 3
   },
   "file_extension": ".py",
   "mimetype": "text/x-python",
   "name": "python",
   "nbconvert_exporter": "python",
   "pygments_lexer": "ipython3",
   "version": "3.8.5"
  }
 },
 "nbformat": 4,
 "nbformat_minor": 4
}
