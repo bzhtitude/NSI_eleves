{
 "cells": [
  {
   "cell_type": "markdown",
   "metadata": {},
   "source": [
    "# <center>TP2 sur l'algorithme KNN </center>\n",
    "\n",
    "### <span style=\"color:blue\">*Le choixpeau*</span>  \n",
    "\n",
    "<div style=\"border: 3px solid #A0A0A0; background: #A7C5DE; padding:10px \"> \n",
    "\n",
    "  À l’entrée à l’école de Poudlard, le Choixpeau magique répartit les élèves dans les différentes maisons (Gryffondor,      Serpentard, Serdaigle et Poufsouffle) en fonction de leur courage, leur loyauté, leur sagesse et leur malice.\n",
    "\n",
    "Le Choixpeau magique dispose d’un fichier CSV dans lequel sont répertoriées les données d’un échantillon d’élèves : \n",
    "Le fichier **choixpeauMagique.csv** dont voici un extrait\n",
    "\n",
    "    \n",
    "</div>"
   ]
  },
  {
   "cell_type": "markdown",
   "metadata": {},
   "source": [
    "| Nom          |Courage    |Loyauté    |Sagesse    |Malice     |Maison    |\n",
    "|:-------------|:---------:|:---------:|:---------:|:---------:|:---------|\n",
    "|Adrian|\t9|\t4|\t7|\t10|\tSerpentard|\n",
    "|Andrew|\t9|\t3|\t4|\t7|\tGryffondor|\n",
    "|Angelina|\t10|\t6|\t5|\t9|\tGryffondor|\n",
    "|Anthony|\t2|\t8|\t8|\t3|\tSerdaigle|"
   ]
  },
  {
   "cell_type": "markdown",
   "metadata": {},
   "source": [
    "<div style=\"border: 3px solid #A0A0A0; background: #A7C5DE; padding:10px \"> \n",
    "\n",
    "On souhaite que Choixpeau magique oriente les \"**cibles**\" suivantes :\n",
    "    \n",
    "</div>\n",
    "\n",
    "\n",
    "| Nom          |Courage    |Loyauté    |Sagesse    |Malice     |\n",
    "|:-------------|:---------:|:---------:|:---------:|:---------:|\n",
    "|Hermione\t|8\t|6\t|6\t|6|\n",
    "|Drago\t    |6\t|6\t|5\t|8|\n",
    "|Cho\t    |7\t|6\t|9\t|6|\n",
    "|Cédric\t    |7\t|10\t|5\t|6|\n",
    "\n"
   ]
  },
  {
   "cell_type": "markdown",
   "metadata": {},
   "source": [
    "### <span style=\"color:blue\">*Partie 1 : Modéliser un élève*</span>  \n",
    "\n",
    "<div style=\"border: 3px solid #A0A0A0; background: #A7C5DE; padding:10px \"> \n",
    "On modélise un élève par une liste.\n",
    "\n",
    "Exemple :  **['Angelina', 10, 6, 5, 9, 'Gryffondor']**\n",
    "\n",
    "**1**. **Donner** la modélisation de l'élève Anthony.\n",
    "</div>"
   ]
  },
  {
   "cell_type": "markdown",
   "metadata": {},
   "source": [
    "<div style=\"border: 3px solid #A0A0A0; background: #A7C5DE; padding:10px \"> \n",
    "On utilise la distance de Manhattan.\n",
    "\n",
    "**2**. **Vérifier** que la distance entre Hermione et Adrian est égale à 8.\n",
    "\n",
    "**3**. **Quelle** est la distance entre Andrew et Drago ?\n",
    "\n",
    "**4**. **Écrire** le code d'une fonction \"**Calculer_distance(eleve1, eleve2)**\" qui prend deux élèves en paramètre et qui renvoie la distance entre ces deux élèves. \n",
    "</div>"
   ]
  },
  {
   "cell_type": "code",
   "execution_count": 17,
   "metadata": {},
   "outputs": [],
   "source": [
    "def Calculer_distance(eleve1, eleve2) :\n",
    "    \"\"\"renvoie la distance de manhattan entre deux élèves\"\"\"\n",
    "    pass\n",
    "    return distance\n"
   ]
  },
  {
   "cell_type": "code",
   "execution_count": 18,
   "metadata": {},
   "outputs": [],
   "source": [
    "Hermione = ['Hermione', 8, 6, 6, 6, '']\n",
    "Adrian = ['Adrian', 9, 4, 7, 10, 'Serpenthard']\n",
    "\n",
    "Andrew = []\n",
    "Drago = []\n",
    "\n",
    "# Calculer_distance(Hermione, Adrian) \n",
    "# Calculer_distance(Andrew, Drago) "
   ]
  },
  {
   "cell_type": "markdown",
   "metadata": {},
   "source": [
    "### <span style=\"color:blue\">*Partie 2 : Importer les données*</span>  \n",
    "\n",
    "<div style=\"border: 3px solid #A0A0A0; background: #A7C5DE; padding:10px \"> \n",
    "\n",
    "**5**. Se reporter au chapitre sur les tables afin d'**écrire** une fonction \"**Charger_table(nom_du_fichier)**\"qui permet de récupérer les données des élèves d'un fichier CSV pour les stocker dans une liste. On doit obtenir une liste de listes.\n",
    "    \n",
    "</div>"
   ]
  },
  {
   "cell_type": "code",
   "execution_count": 20,
   "metadata": {},
   "outputs": [],
   "source": [
    "import csv\n",
    "\n",
    "def Charger_table(nom_du_fichier) :\n",
    "    \"\"\"récupére et renvoie les données des élèves d'un fichier CSV sous forme de liste de listes.\"\"\"\n",
    "    \n",
    "    pass\n",
    "\n",
    "    return listes_eleves\n",
    "\n",
    "\n",
    "listes_eleves = Charger_table('choixpeauMagique.csv')\n",
    "# for eleve in listes_eleves : print(eleve)"
   ]
  },
  {
   "cell_type": "markdown",
   "metadata": {},
   "source": [
    "### <span style=\"color:blue\">*Partie 3 : Trouver la maison majoritaire*</span>  \n",
    "\n",
    "<div style=\"border: 3px solid #A0A0A0; background: #A7C5DE; padding:10px \"> \n",
    "\n",
    "**6**. Écrire une fonction \"**frequence_des_maisons(table)**\" qui prend en paramètre une table d'élèves et qui renvoie la liste des fréquences des maisons. L'ordre des maison retenu est le suivant **['Serpentar', 'Gryffondor', 'Serdaigle', 'Poufsouffle']**\n",
    "\n",
    "Vous devez obtenir : **[12, 17, 11, 10]**\n",
    "\n",
    "**7**. Écrire une fonction \"**maison_majoritaire(table)\"** qui prend en paramètre une table d'élèves et qui renvoie le nom de la maison la plus représentée.\n",
    "    \n",
    "</div>"
   ]
  },
  {
   "cell_type": "code",
   "execution_count": 21,
   "metadata": {},
   "outputs": [],
   "source": [
    "def frequence_des_maisons(table) :\n",
    "    \"\"\"renvoie la liste des fréquences des maisons.\"\"\"\n",
    "    \n",
    "    pass\n",
    "\n",
    "    return listes_frequences\n",
    "\n",
    "# frequence_des_maisons(listes_eleves)"
   ]
  },
  {
   "cell_type": "code",
   "execution_count": 22,
   "metadata": {},
   "outputs": [],
   "source": [
    "def maison_majoritaire(table) :\n",
    "    \"\"\"renvoie le nom de la maison la plus représentée.\"\"\"\n",
    "    \n",
    "    pass\n",
    "\n",
    "    return maison\n",
    "\n",
    "# maison_majoritaire(listes_eleves)"
   ]
  },
  {
   "cell_type": "markdown",
   "metadata": {},
   "source": [
    "### <span style=\"color:blue\">*Partie 4 : Algorithme des 7 plus proches voisins*</span>  \n",
    "\n",
    "<div style=\"border: 3px solid #A0A0A0; background: #A7C5DE; padding:10px \"> \n",
    "\n",
    "On dispose d'une **table** et d'un **nouveau** (la cible) qui n'a pas encore de maison. On cherche les 7 plus proches voisins de ce nouveau.\n",
    "\n",
    "**8**. Écrire l'algorithme des 7 plus proches voisins : \"**Sept_plus_proches_voisins(table, cible)**\"\n",
    "    \n",
    "**exemple : Sept_plus_proches_voisins(listes_eleves, Hermione)** doit retourner :\n",
    "\n",
    "    \n",
    "[['Cormac', 9, 6, 5, 4, 'Gryffondor'],\n",
    "    \n",
    "['Milicent', 9, 3, 5, 6, 'Serpentar'],\n",
    "    \n",
    "['Neville', 10, 5, 6, 4, 'Gryffondor'],\n",
    "    \n",
    "['Padma', 6, 6, 6, 9, 'Serdaigle'],\n",
    "    \n",
    "['Susan', 5, 6, 5, 5, 'Poufsouffle'],\n",
    "    \n",
    "['Angelina', 10, 6, 5, 9, 'Gryffondor'],\n",
    "    \n",
    "['Colin', 10, 7, 4, 7, 'Gryffondor']]\n",
    "    \n",
    "    \n",
    "    \n",
    "</div>"
   ]
  },
  {
   "cell_type": "code",
   "execution_count": 11,
   "metadata": {},
   "outputs": [],
   "source": [
    "def Sept_plus_proches_voisins(table, cible) :\n",
    "    \"\"\"Renvoie la liste des 7 plus proches voisins de la cible\"\"\"    \n",
    "    \n",
    "    pass\n",
    "    \n",
    "    return liste_triee\n",
    "\n",
    "# Sept_plus_proches_voisins(listes_eleves, Hermione)"
   ]
  },
  {
   "cell_type": "markdown",
   "metadata": {},
   "source": [
    "### <span style=\"color:blue\">*Partie 5 : Attribution d'un maison*</span>  \n",
    "\n",
    "<div style=\"border: 3px solid #A0A0A0; background: #A7C5DE; padding:10px \"> \n",
    "\n",
    "On dispose d'une **table** et d'un **nouveau** qui n' a pas encore de maison. On cherche à lui attribuer une maison.\n",
    "\n",
    "**9**. Implémenter l'algorithme de l'attribution :\n",
    "\n",
    "  - Trouver dans la table les 7 plus proches voisins du nouvel élève.\n",
    "  - Parmi ces proches voisins, trouver la maison majoritaire.\n",
    "  - Renvoyer la maison majoritaire.\n",
    "\n",
    "\n",
    "Faire un test avec 'Hermione' qui doit retourner \"**Gryffondor**\"\n",
    "et Poppy = [\"Poppy\", 1, 8, 1, 8, ''] qui doit retourner \"**Serpentar**\"\n",
    "    \n",
    "</div>"
   ]
  },
  {
   "cell_type": "code",
   "execution_count": null,
   "metadata": {},
   "outputs": [],
   "source": []
  }
 ],
 "metadata": {
  "kernelspec": {
   "display_name": "Python 3",
   "language": "python",
   "name": "python3"
  },
  "language_info": {
   "codemirror_mode": {
    "name": "ipython",
    "version": 3
   },
   "file_extension": ".py",
   "mimetype": "text/x-python",
   "name": "python",
   "nbconvert_exporter": "python",
   "pygments_lexer": "ipython3",
   "version": "3.8.5"
  }
 },
 "nbformat": 4,
 "nbformat_minor": 4
}
